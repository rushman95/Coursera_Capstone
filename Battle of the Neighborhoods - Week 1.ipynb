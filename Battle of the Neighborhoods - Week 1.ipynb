{
    "cells": [
        {
            "cell_type": "markdown",
            "metadata": {
                "collapsed": true
            },
            "source": "## Introduction/Background\n\nKenya, often dubbed the gateway to East Africa, is one of the fastest developing nations in Africa. In recent years, Nairobi (the capital city of Kenya) has seen an influx of immigration partly due to more people moving to Africa as international companies expand their operations in Africa. Nairobi also features the headquartes of the United Nations Environmental Program, another international organization that has a lot of international visitors. \n\nThe growing expatriate community means that there is an increase in demand for accommodation. As Nairobi is still a developing country, information sources about the availability of facilities are limited in number and reliability. This project is therefore, aiming to create a guide for expatriates that are either visiting or looking to move to Nairobi."
        },
        {
            "cell_type": "markdown",
            "metadata": {},
            "source": "## Problem Statement\n\nThe primary objective of this project is to provide a range of options, based on personal preferences, for the ideal neighbourhood to live when in Nairobi. The project will take into consideration the diversity in demographic of the visitors to Nairobi, and try to provide suitable options for each demographic. It will achieve this by identifying 100 places within 500 metres of each Neighbourhood in Nairobi and, categorizing and grouping them, to indicate what services and facilities are nearby.     "
        },
        {
            "cell_type": "markdown",
            "metadata": {},
            "source": "## Data Requirements\n\nThe table featuring Nairobi's consituencies and their wards is present on https://en.wikipedia.org/wiki/Nairobi_County. This table will be cleaned and processed so that it becomes a dataframe with a list of wards and each of their respective constituencies. This will then be used with the geocoder package on python, to find the latitude and longitude of each of the wards. \n\nThe foursquare API will also be used to get data for 100 of the venues that are within 500 metres of the neighbourhoods. This data will then be processed to understand the frequency of each of the categories. The K means clustering algorithm will then be used to "
        },
        {
            "cell_type": "code",
            "execution_count": null,
            "metadata": {},
            "outputs": [],
            "source": ""
        }
    ],
    "metadata": {
        "kernelspec": {
            "display_name": "Python 3.7",
            "language": "python",
            "name": "python3"
        },
        "language_info": {
            "codemirror_mode": {
                "name": "ipython",
                "version": 3
            },
            "file_extension": ".py",
            "mimetype": "text/x-python",
            "name": "python",
            "nbconvert_exporter": "python",
            "pygments_lexer": "ipython3",
            "version": "3.7.9"
        }
    },
    "nbformat": 4,
    "nbformat_minor": 1
}